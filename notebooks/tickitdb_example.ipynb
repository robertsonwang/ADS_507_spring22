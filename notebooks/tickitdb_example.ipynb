{
 "cells": [
  {
   "cell_type": "markdown",
   "id": "2f6db23b",
   "metadata": {},
   "source": [
    "Query provided by Amazon:\n",
    "\n",
    "\n",
    "```sql\n",
    "create table event(\n",
    "\teventid integer not null distkey,\n",
    "\tvenueid smallint not null,\n",
    "\tcatid smallint not null,\n",
    "\tdateid smallint not null sortkey,\n",
    "\teventname varchar(200),\n",
    "\tstarttime timestamp);\n",
    "```"
   ]
  },
  {
   "cell_type": "code",
   "execution_count": null,
   "id": "4fb5c4da",
   "metadata": {},
   "outputs": [],
   "source": [
    "import sqlite3\n",
    "import pandas as pd\n",
    "\n",
    "from tqdm.notebook import tqdm"
   ]
  },
  {
   "cell_type": "code",
   "execution_count": null,
   "id": "b636bb83",
   "metadata": {},
   "outputs": [],
   "source": [
    "data = pd.read_csv('tickitdb/allevents_pipe.txt', sep=\"|\", header=None)\n",
    "display(data.head())\n",
    "data.columns = ['eventid', 'venueid', 'catid', 'dateid', 'eventname', 'starttime']\n",
    "display(data.head())"
   ]
  },
  {
   "cell_type": "code",
   "execution_count": null,
   "id": "ae34169c",
   "metadata": {},
   "outputs": [],
   "source": [
    "# Make sure event id is actually a primary key\n",
    "assert len(data.eventid) == len(data.eventid.unique())"
   ]
  },
  {
   "cell_type": "code",
   "execution_count": null,
   "id": "b89069d4",
   "metadata": {},
   "outputs": [],
   "source": [
    "con = sqlite3.connect('tickit.db')\n",
    "cursor = con.cursor()\n",
    "print(\"Successfully Connected to Database\")\n",
    "\n",
    "# Drop table if already exists\n",
    "cursor.execute(\"DROP TABLE IF EXISTS event\")\n",
    "con.commit()\n",
    "\n",
    "# Create Table\n",
    "sql_create_table = \"\"\"CREATE TABLE IF NOT EXISTS event (\n",
    "                                eventid integer not null,\n",
    "                                venueid smallint not null,\n",
    "                                catid smallint not null,\n",
    "                                dateid smallint not null,\n",
    "                                eventname varchar(200),\n",
    "                                starttime timestamp\n",
    "                                );\"\"\"\n",
    "cursor.execute(sql_create_table)\n",
    "con.commit()\n",
    "print(\"Succesfully create event table\")\n",
    "\n",
    "# Insert rows from extracted entity dataframe\n",
    "for i, row in tqdm(data.iterrows(), \n",
    "                   total=len(data)):\n",
    "    sqlite_insert_query = f\"\"\"INSERT INTO event\n",
    "                          (eventid, venueid, catid, dateid, eventname, starttime) \n",
    "                           VALUES \n",
    "                          ('{row['eventid']}', '{row['venueid']}',  '{row['catid']}', \n",
    "                          '{row['dateid']}', '{row['eventname'].replace(\"'\", \"''\")}', '{row['starttime']}')\"\"\"\n",
    "\n",
    "    cursor.execute(sqlite_insert_query)\n",
    "    con.commit()\n",
    "print(f\"Successfully inserted {len(data)} rows into the event table\")\n",
    "cursor.close()"
   ]
  }
 ],
 "metadata": {
  "kernelspec": {
   "display_name": "Python 3 (ipykernel)",
   "language": "python",
   "name": "python3"
  },
  "language_info": {
   "codemirror_mode": {
    "name": "ipython",
    "version": 3
   },
   "file_extension": ".py",
   "mimetype": "text/x-python",
   "name": "python",
   "nbconvert_exporter": "python",
   "pygments_lexer": "ipython3",
   "version": "3.8.2"
  }
 },
 "nbformat": 4,
 "nbformat_minor": 5
}
